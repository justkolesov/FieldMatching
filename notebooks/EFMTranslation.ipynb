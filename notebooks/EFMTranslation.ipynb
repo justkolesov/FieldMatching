{
 "cells": [
  {
   "cell_type": "markdown",
   "id": "eac55555",
   "metadata": {},
   "source": [
    "# EFM Translation "
   ]
  },
  {
   "cell_type": "code",
   "execution_count": 1,
   "id": "4b382033",
   "metadata": {},
   "outputs": [],
   "source": [
    "import torch\n",
    "import torchvision\n",
    "from torchvision.datasets import ImageFolder\n",
    "from torch.utils.data import DataLoader, TensorDataset, Subset\n",
    "\n",
    "import math\n",
    "import numpy as np\n",
    "import matplotlib.pyplot as plt\n",
    "%matplotlib inline\n",
    "\n",
    "import wandb\n",
    "import sys\n",
    "sys.path.append(\"/trinity/home/a.kolesov/EFM/\")\n",
    "from src.models import DDPM, ExponentialMovingAverage\n",
    "from src.efm_field import EFM\n",
    "from src.utils import Config, optimization_manager, random_color"
   ]
  },
  {
   "cell_type": "markdown",
   "id": "5b48df31",
   "metadata": {},
   "source": [
    "## 1. Base Config"
   ]
  },
  {
   "cell_type": "code",
   "execution_count": 29,
   "id": "9ba4c5b3",
   "metadata": {},
   "outputs": [],
   "source": [
    "config = Config()\n",
    "\n",
    " \n",
    "config.device = 'cuda'\n",
    "config.experiment = 'translation'\n",
    "\n",
    "config.data = Config()\n",
    "config.data.name = 'Celeba'\n",
    "config.data.name_sets = ['Female','Male']\n",
    "config.data.num_channels = 3\n",
    "config.data.img_resize = 64\n",
    "config.data.image_size=64\n",
    "config.data.centered = True\n",
    "config.DIM = config.data.num_channels*config.data.image_size*config.data.image_size + 1\n",
    "\n",
    "config.p = Config()\n",
    "config.p.x_loc = 0.\n",
    "\n",
    "config.q = Config()\n",
    "config.q.x_loc = config.L\n",
    "\n",
    "config.training = Config()\n",
    "config.training.small_batch_size =64 # important parameter\n",
    "config.training.batch_size =64      # important parameter\n",
    "config.training.field_type = \"Shifted\"\n",
    "config.training.plan_type = \"Independent\"\n",
    "config.training.field_form = \"exponential\"\n",
    "config.training.n_iters = 1_000_000\n",
    "config.training.sde = 'poisson'\n",
    "config.training.eval_freq = 1_000\n",
    "config.training.snapshot_freq = 5_000\n",
    "config.training.sigma_end = 0.1\n",
    "config.training.M = 191 # important parameter\n",
    "config.training.tau = 0.03  \n",
    "config.training.epsilon = 1e-3 # important parameter\n",
    "config.training.interpolation = 'Uniform_mixing'\n",
    "config.training.noised_interpolation = False\n",
    "config.training.restrict_M = False\n",
    "config.training.gamma = 5. # important parameter\n",
    "\n",
    "config.model  = Config()\n",
    "\n",
    "config.model = config.model\n",
    "config.model.name = 'ncsnpp'\n",
    "config.model.scale_by_sigma = False\n",
    "config.model.ema_rate = 0.9999\n",
    "config.model.normalization = 'GroupNorm'\n",
    "config.model.nonlinearity = 'swish'\n",
    "config.model.nf = 128\n",
    "config.model.ch_mult = (1, 2, 2, 2)\n",
    "config.model.num_res_blocks = 4\n",
    "config.model.attn_resolutions = (16,)\n",
    "config.model.resamp_with_conv = True\n",
    "config.model.conditional = True\n",
    "config.model.fir = False\n",
    "config.model.fir_kernel = [1, 3, 3, 1]\n",
    "config.model.skip_rescale = True\n",
    "config.model.resblock_type = 'biggan'\n",
    "config.model.progressive = 'none'\n",
    "config.model.progressive_input = 'none'\n",
    "config.model.progressive_combine = 'sum'\n",
    "config.model.attention_type = 'ddpm'\n",
    "config.model.init_scale = 0.\n",
    "config.model.fourier_scale = 16\n",
    "config.model.embedding_type = 'positional'\n",
    "config.model.conv_size = 3\n",
    "config.model.sigma_end = 0.01\n",
    "config.model.dropout = 0.1\n",
    "\n",
    "config.optim  = Config()\n",
    "config.optim.weight_decay = 0\n",
    "config.optim.optimizer = 'Adam'\n",
    "config.optim.lr = 2e-4\n",
    "config.optim.beta1 = 0.9\n",
    "config.optim.eps = 1e-8 \n",
    "config.optim.warmup = 5000  \n",
    "config.optim.grad_clip = 1.\n",
    "\n",
    "config.ode = Config()\n",
    "config.ode.gamma = 1e-7\n",
    "config.ode.step = 0.25\n",
    "\n",
    "config.sampling = Config()\n",
    "config.sampling.method = 'ode'\n",
    "config.sampling.ode_solver = 'rk45'\n",
    "config.sampling.N = 100\n",
    "config.sampling.z_max = config.L# - config.training.epsilon\n",
    "config.sampling.z_min = config.training.epsilon\n",
    "config.sampling.upper_norm = 3000\n",
    "config.sampling.z_exp=1\n",
    "config.sampling.vs = False\n",
    "config.sampling.visual_iterations=10"
   ]
  },
  {
   "cell_type": "markdown",
   "id": "fb24bf75",
   "metadata": {},
   "source": [
    "## 2. Data"
   ]
  },
  {
   "cell_type": "code",
   "execution_count": 30,
   "id": "c62fe426",
   "metadata": {},
   "outputs": [],
   "source": [
    "TRANSFORM = torchvision.transforms.Compose([\n",
    "                torchvision.transforms.CenterCrop(140),\n",
    "                torchvision.transforms.Resize((config.data.image_size, config.data.image_size)),\n",
    "                torchvision.transforms.ToTensor()\n",
    "            ])\n",
    "\n",
    "\n",
    "train_set, eval_set = {}, {}\n",
    "train_loader, eval_loader = {},{}\n",
    "train_iter,eval_iter = {},{}\n",
    "for name_set in config.data.name_sets:\n",
    "    \n",
    "    path = f'/trinity/home/a.kolesov/data/Celeba_gender/Dataset/Train/{name_set}/'\n",
    "    train_set[name_set]  =  ImageFolder(path, transform=TRANSFORM)\n",
    "    path = f'/trinity/home/a.kolesov/data/Celeba_gender/Dataset/Test/{name_set}'\n",
    "    eval_set[name_set]  =  ImageFolder(path, transform=TRANSFORM)\n",
    "    \n",
    "    train_loader[name_set] = torch.utils.data.DataLoader(train_set[name_set],\n",
    "                                                         batch_size=config.training.batch_size,\n",
    "                                                         shuffle=True)\n",
    "    \n",
    "    eval_loader[name_set] =  torch.utils.data.DataLoader(eval_set[name_set], \n",
    "                                                         batch_size=config.training.batch_size, \n",
    "                                                         shuffle=True)\n",
    "    \n",
    "    train_iter[name_set] = iter(train_loader[name_set])\n",
    "    eval_iter[name_set] = iter(eval_loader[name_set])\n",
    "                                           \n"
   ]
  },
  {
   "cell_type": "markdown",
   "id": "377c8e6d",
   "metadata": {},
   "source": [
    "## 3. Models"
   ]
  },
  {
   "cell_type": "code",
   "execution_count": 6,
   "id": "0095385a",
   "metadata": {},
   "outputs": [],
   "source": [
    "net = DDPM(config).to(config.device)\n",
    "params = net.parameters()\n",
    "optimizer = torch.optim.Adam(params,\n",
    "                       lr=config.optim.lr, betas=(config.optim.beta1, 0.999), eps=config.optim.eps,\n",
    "                       weight_decay=config.optim.weight_decay)\n",
    "\n",
    "ema = ExponentialMovingAverage(net.parameters(), decay=config.model.ema_rate)\n",
    "state = dict(optimizer=optimizer, model=net, ema=ema, step=0)\n",
    "optimize_fn = optimization_manager(config)"
   ]
  },
  {
   "cell_type": "markdown",
   "id": "13da4ec9",
   "metadata": {},
   "source": [
    "## 4. Training"
   ]
  },
  {
   "cell_type": "code",
   "execution_count": 6,
   "id": "c438ffb9",
   "metadata": {
    "scrolled": true
   },
   "outputs": [
    {
     "name": "stderr",
     "output_type": "stream",
     "text": [
      "\u001b[34m\u001b[1mwandb\u001b[0m: Currently logged in as: \u001b[33memfalafeli\u001b[0m (use `wandb login --relogin` to force relogin)\n",
      "\u001b[34m\u001b[1mwandb\u001b[0m: wandb version 0.21.0 is available!  To upgrade, please run:\n",
      "\u001b[34m\u001b[1mwandb\u001b[0m:  $ pip install wandb --upgrade\n"
     ]
    },
    {
     "data": {
      "text/html": [
       "\n",
       "                Tracking run with wandb version 0.10.33<br/>\n",
       "                Syncing run <strong style=\"color:#cdcd00\">Int=Uniform_            eps=0.001_            BS_128_SBS=128            _L_20.0_sigma=0.1</strong> to <a href=\"https://wandb.ai\" target=\"_blank\">Weights & Biases</a> <a href=\"https://docs.wandb.com/integrations/jupyter.html\" target=\"_blank\">(Documentation)</a>.<br/>\n",
       "                Project page: <a href=\"https://wandb.ai/emfalafeli/IFMTranslationCelebA\" target=\"_blank\">https://wandb.ai/emfalafeli/IFMTranslationCelebA</a><br/>\n",
       "                Run page: <a href=\"https://wandb.ai/emfalafeli/IFMTranslationCelebA/runs/2waets4j\" target=\"_blank\">https://wandb.ai/emfalafeli/IFMTranslationCelebA/runs/2waets4j</a><br/>\n",
       "                Run data is saved locally in <code>/trinity/home/a.kolesov/EFM/notebooks/wandb/run-20250711_004101-2waets4j</code><br/><br/>\n",
       "            "
      ],
      "text/plain": [
       "<IPython.core.display.HTML object>"
      ]
     },
     "metadata": {},
     "output_type": "display_data"
    },
    {
     "data": {
      "text/html": [
       "<h1>Run(2waets4j)</h1><iframe src=\"https://wandb.ai/emfalafeli/IFMTranslationCelebA/runs/2waets4j\" style=\"border:none;width:100%;height:400px\"></iframe>"
      ],
      "text/plain": [
       "<wandb.sdk.wandb_run.Run at 0x15546838d3d0>"
      ]
     },
     "execution_count": 6,
     "metadata": {},
     "output_type": "execute_result"
    }
   ],
   "source": [
    "config.name_exp = f\"Int={config.training.interpolation}_Noise={config.training.noised_interpolation}\\\n",
    "                  L={config.L}_sc={config.SCALE}_BS_{config.training.batch_size}_\\\n",
    "                  SBS={config.training.small_batch_size}\"\n",
    "wandb.init(project=\"EFMTranslationCelebA\", name=config.name_exp)"
   ]
  },
  {
   "cell_type": "code",
   "execution_count": null,
   "id": "e19d814e",
   "metadata": {},
   "outputs": [],
   "source": [
    "efm = EFM(config)\n",
    "net, state = efm.train(train_loader, eval_loader,\n",
    "                       net, optimizer, optimize_fn,\n",
    "                       state)"
   ]
  },
  {
   "cell_type": "code",
   "execution_count": null,
   "id": "869313a8",
   "metadata": {},
   "outputs": [],
   "source": []
  }
 ],
 "metadata": {
  "kernelspec": {
   "display_name": "Python 3",
   "language": "python",
   "name": "python3"
  },
  "language_info": {
   "codemirror_mode": {
    "name": "ipython",
    "version": 3
   },
   "file_extension": ".py",
   "mimetype": "text/x-python",
   "name": "python",
   "nbconvert_exporter": "python",
   "pygments_lexer": "ipython3",
   "version": "3.8.5"
  }
 },
 "nbformat": 4,
 "nbformat_minor": 5
}
