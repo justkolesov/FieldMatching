{
 "cells": [
  {
   "cell_type": "markdown",
   "id": "b8dc3498",
   "metadata": {},
   "source": [
    "# EFM Generation: Colored MNIST 32x32"
   ]
  },
  {
   "cell_type": "code",
   "execution_count": null,
   "id": "4e90e766",
   "metadata": {},
   "outputs": [],
   "source": [
    "import torch\n",
    "import torchvision\n",
    "\n",
    "import numpy as np\n",
    "import matplotlib.pyplot as plt\n",
    "%matplotlib inline\n",
    "\n",
    "import wandb\n",
    "import sys\n",
    "sys.path.append(\"/trinity/home/a.kolesov/EFM/\")\n",
    "from src.models import DDPM, ExponentialMovingAverage\n",
    "from src.efm_field import EFM\n",
    "from src.utils import Config, optimization_manager, random_color"
   ]
  },
  {
   "cell_type": "markdown",
   "id": "f98dd50f",
   "metadata": {},
   "source": [
    "## 1. Base Config"
   ]
  },
  {
   "cell_type": "code",
   "execution_count": null,
   "id": "132ccecc",
   "metadata": {},
   "outputs": [],
   "source": [
    "config = Config()\n",
    "\n",
    "config.data = Config()\n",
    "config.data.name = 'CMNIST'\n",
    "config.data.num_channels = 3\n",
    "config.data.img_resize = 32\n",
    "config.data.image_size=32\n",
    "config.data.centered = True\n",
    "\n",
    "config.device = 'cuda'\n",
    "config.L = 500 # important parameter\n",
    "config.DIM = config.data.num_channels*config.data.image_size*config.data.image_size + 1\n",
    "\n",
    "config.p = Config()\n",
    "config.p.x_loc = 0.\n",
    "\n",
    "config.q = Config()\n",
    "config.q.x_loc = config.L\n",
    "\n",
    "\n",
    "config.training = Config()\n",
    "config.training.small_batch_size =64 # important parameter\n",
    "config.training.batch_size =64      # important parameter\n",
    "config.training.n_iters = 1_000_000\n",
    "config.training.sde = 'poisson'\n",
    "config.training.eval_freq = 1_000\n",
    "config.training.snapshot_freq = 5_000\n",
    "config.training.sigma_end = 0.1\n",
    "config.training.M = 291 # important parameter\n",
    "config.training.tau = 0.03  \n",
    "config.training.epsilon = 1e-3 # important parameter\n",
    "config.training.interpolation = 'Uniform_mixing'\n",
    "config.training.restrict_M = False\n",
    "config.training.stability = True\n",
    "config.training.gamma = 5. # important parameter\n",
    "\n",
    "\n",
    "config.model  = Config()\n",
    "\n",
    "config.model = config.model\n",
    "config.model.name = 'ncsnpp'\n",
    "config.model.scale_by_sigma = False\n",
    "config.model.ema_rate = 0.9999\n",
    "config.model.normalization = 'GroupNorm'\n",
    "config.model.nonlinearity = 'swish'\n",
    "config.model.nf = 128\n",
    "config.model.ch_mult = (1, 2, 2, 2)\n",
    "config.model.num_res_blocks = 4\n",
    "config.model.attn_resolutions = (16,)\n",
    "config.model.resamp_with_conv = True\n",
    "config.model.conditional = True\n",
    "config.model.fir = False\n",
    "config.model.fir_kernel = [1, 3, 3, 1]\n",
    "config.model.skip_rescale = True\n",
    "config.model.resblock_type = 'biggan'\n",
    "config.model.progressive = 'none'\n",
    "config.model.progressive_input = 'none'\n",
    "config.model.progressive_combine = 'sum'\n",
    "config.model.attention_type = 'ddpm'\n",
    "config.model.init_scale = 0.\n",
    "config.model.fourier_scale = 16\n",
    "config.model.embedding_type = 'positional'\n",
    "config.model.conv_size = 3\n",
    "config.model.sigma_end = 0.1\n",
    "config.model.dropout = 0.1\n",
    "\n",
    "config.optim  = Config()\n",
    "config.optim.weight_decay = 0\n",
    "config.optim.optimizer = 'Adam'\n",
    "config.optim.lr = 2e-4\n",
    "config.optim.beta1 = 0.9\n",
    "config.optim.eps = 1e-8 \n",
    "config.optim.warmup = 5000  \n",
    "config.optim.grad_clip = 1.\n",
    "\n",
    "\n",
    "config.ode = Config()\n",
    "config.ode.gamma = 1e-7\n",
    "config.ode.step = 0.25\n",
    "\n",
    "config.sampling = Config()\n",
    "config.sampling.method = 'ode'\n",
    "config.sampling.ode_solver = 'rk45'\n",
    "config.sampling.N = 100\n",
    "config.sampling.z_max = config.L# - config.training.epsilon\n",
    "config.sampling.z_min = config.training.epsilon\n",
    "config.sampling.upper_norm = 3000\n",
    "config.sampling.z_exp=1\n",
    "config.sampling.vs = False\n",
    "config.sampling.visual_iterations=10"
   ]
  },
  {
   "cell_type": "code",
   "execution_count": null,
   "id": "9456914b",
   "metadata": {},
   "outputs": [],
   "source": [
    "##### running configuration #####\n",
    "config.L = 500\n",
    "config.q.x_loc = config.L\n",
    "config.training.small_batch_size = 64 \n",
    "config.training.batch_size = 64\n",
    "\n",
    "\n",
    "config.training.interpolation = 'Uniform_mixing'\n",
    "config.training.sigma_end = 0.1\n",
    "config.training.M = 291 \n",
    "config.training.tau = 0.03  \n",
    "config.training.epsilon = 1e-3 \n",
    "config.training.gamma = 5.\n",
    "\n",
    "config.sampling.z_min = config.training.epsilon\n",
    "config.sampling.z_max = config.L# - config.training.epsilon\n",
    "##### running configuration #####"
   ]
  },
  {
   "cell_type": "markdown",
   "id": "f7d75738",
   "metadata": {},
   "source": [
    "## 2. Data"
   ]
  },
  {
   "cell_type": "code",
   "execution_count": null,
   "id": "d756c4a0",
   "metadata": {},
   "outputs": [],
   "source": [
    "TRANSFORM = torchvision.transforms.Compose([\n",
    "    torchvision.transforms.Resize(config.data.img_resize),\n",
    "    torchvision.transforms.ToTensor(),\n",
    "    random_color,\n",
    "    torchvision.transforms.Normalize([0.5],[0.5])\n",
    "])\n",
    "\n",
    "\n",
    "train_data = torchvision.datasets.MNIST(root='/trinity/home/a.kolesov/data/MNIST/',\n",
    "                                        train=True, download=True, transform=TRANSFORM)\n",
    "eval_data = torchvision.datasets.MNIST(root='/trinity/home/a.kolesov/data/MNIST/',\n",
    "                                        train=False, download=True, transform=TRANSFORM)\n",
    "\n",
    "train_loader = torch.utils.data.DataLoader(train_data, batch_size=config.training.batch_size,\n",
    "                                           shuffle=True)\n",
    "eval_loader =  torch.utils.data.DataLoader(eval_data, batch_size=config.training.batch_size, \n",
    "                                           shuffle=True)\n",
    "\n",
    "train_iter = iter(train_loader)\n",
    "eval_iter = iter(eval_loader)"
   ]
  },
  {
   "cell_type": "markdown",
   "id": "adc343ba",
   "metadata": {},
   "source": [
    "## 3. Models"
   ]
  },
  {
   "cell_type": "code",
   "execution_count": null,
   "id": "0ddeef2b",
   "metadata": {},
   "outputs": [],
   "source": [
    "net = DDPM(config).to(config.device)\n",
    "params = net.parameters()\n",
    "optimizer = torch.optim.Adam(params,\n",
    "                       lr=config.optim.lr, betas=(config.optim.beta1, 0.999), eps=config.optim.eps,\n",
    "                       weight_decay=config.optim.weight_decay)\n",
    "\n",
    "ema = ExponentialMovingAverage(net.parameters(), decay=config.model.ema_rate)\n",
    "state = dict(optimizer=optimizer, model=net, ema=ema, step=0)\n",
    "optimize_fn = optimization_manager(config)"
   ]
  },
  {
   "cell_type": "markdown",
   "id": "00670086",
   "metadata": {},
   "source": [
    "## 4. Training"
   ]
  },
  {
   "cell_type": "code",
   "execution_count": null,
   "id": "77e43e32",
   "metadata": {
    "scrolled": true
   },
   "outputs": [],
   "source": [
    "config.name_exp = f\"Int={config.training.interpolation}_\\\n",
    "            eps={config.training.epsilon}_\\\n",
    "            BS_{config.training.batch_size}_SBS={config.training.small_batch_size}\\\n",
    "            _L_{config.L}_sigma={config.training.sigma_end}\"\n",
    "wandb.init(project=\"EFMGenerationCMNIST\", name=config.name_exp)"
   ]
  },
  {
   "cell_type": "code",
   "execution_count": null,
   "id": "f006fcc4",
   "metadata": {},
   "outputs": [],
   "source": [
    "efm = EFM(config)\n",
    "net, state = efm.train(train_loader, eval_loader,\n",
    "                       net, optimizer, optimize_fn,\n",
    "                       state)"
   ]
  },
  {
   "cell_type": "code",
   "execution_count": null,
   "id": "e435bb35",
   "metadata": {},
   "outputs": [],
   "source": []
  },
  {
   "cell_type": "code",
   "execution_count": null,
   "id": "9fd3c475",
   "metadata": {},
   "outputs": [],
   "source": []
  },
  {
   "cell_type": "code",
   "execution_count": null,
   "id": "9fff3a15",
   "metadata": {},
   "outputs": [],
   "source": []
  }
 ],
 "metadata": {
  "kernelspec": {
   "display_name": "Python 3",
   "language": "python",
   "name": "python3"
  },
  "language_info": {
   "codemirror_mode": {
    "name": "ipython",
    "version": 3
   },
   "file_extension": ".py",
   "mimetype": "text/x-python",
   "name": "python",
   "nbconvert_exporter": "python",
   "pygments_lexer": "ipython3",
   "version": "3.8.5"
  }
 },
 "nbformat": 4,
 "nbformat_minor": 5
}
